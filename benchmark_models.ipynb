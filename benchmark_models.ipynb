{
 "cells": [
  {
   "cell_type": "code",
   "execution_count": 1,
   "id": "complete-fishing",
   "metadata": {},
   "outputs": [],
   "source": [
    "\n",
    "import tensorflow as tf\n",
    "gpus= tf.config.experimental.list_physical_devices('GPU')\n",
    "tf.config.experimental.set_memory_growth(gpus[0], True)\n",
    "import pandas as pd\n",
    "import matplotlib.pyplot as plt\n",
    "import inspect\n",
    "from tqdm import tqdm\n",
    "import numpy as np\n",
    "# Set batch size for training and validation\n",
    "batch_size = 32\n"
   ]
  },
  {
   "cell_type": "code",
   "execution_count": 3,
   "id": "based-turkey",
   "metadata": {},
   "outputs": [
    {
     "data": {
      "text/plain": [
       "[PhysicalDevice(name='/physical_device:GPU:0', device_type='GPU')]"
      ]
     },
     "execution_count": 3,
     "metadata": {},
     "output_type": "execute_result"
    }
   ],
   "source": [
    "gpus\n"
   ]
  },
  {
   "cell_type": "code",
   "execution_count": 4,
   "id": "honest-marijuana",
   "metadata": {},
   "outputs": [],
   "source": [
    "model_dictionary = {m[0]:m[1] for m in inspect.getmembers(tf.keras.applications, inspect.isfunction)}\n"
   ]
  },
  {
   "cell_type": "code",
   "execution_count": 5,
   "id": "banned-dispute",
   "metadata": {},
   "outputs": [
    {
     "data": {
      "text/plain": [
       "{'DenseNet121': <function tensorflow.python.keras.applications.densenet.DenseNet121(include_top=True, weights='imagenet', input_tensor=None, input_shape=None, pooling=None, classes=1000)>,\n",
       " 'DenseNet169': <function tensorflow.python.keras.applications.densenet.DenseNet169(include_top=True, weights='imagenet', input_tensor=None, input_shape=None, pooling=None, classes=1000)>,\n",
       " 'DenseNet201': <function tensorflow.python.keras.applications.densenet.DenseNet201(include_top=True, weights='imagenet', input_tensor=None, input_shape=None, pooling=None, classes=1000)>,\n",
       " 'EfficientNetB0': <function tensorflow.python.keras.applications.efficientnet.EfficientNetB0(include_top=True, weights='imagenet', input_tensor=None, input_shape=None, pooling=None, classes=1000, classifier_activation='softmax', **kwargs)>,\n",
       " 'EfficientNetB1': <function tensorflow.python.keras.applications.efficientnet.EfficientNetB1(include_top=True, weights='imagenet', input_tensor=None, input_shape=None, pooling=None, classes=1000, classifier_activation='softmax', **kwargs)>,\n",
       " 'EfficientNetB2': <function tensorflow.python.keras.applications.efficientnet.EfficientNetB2(include_top=True, weights='imagenet', input_tensor=None, input_shape=None, pooling=None, classes=1000, classifier_activation='softmax', **kwargs)>,\n",
       " 'EfficientNetB3': <function tensorflow.python.keras.applications.efficientnet.EfficientNetB3(include_top=True, weights='imagenet', input_tensor=None, input_shape=None, pooling=None, classes=1000, classifier_activation='softmax', **kwargs)>,\n",
       " 'EfficientNetB4': <function tensorflow.python.keras.applications.efficientnet.EfficientNetB4(include_top=True, weights='imagenet', input_tensor=None, input_shape=None, pooling=None, classes=1000, classifier_activation='softmax', **kwargs)>,\n",
       " 'EfficientNetB5': <function tensorflow.python.keras.applications.efficientnet.EfficientNetB5(include_top=True, weights='imagenet', input_tensor=None, input_shape=None, pooling=None, classes=1000, classifier_activation='softmax', **kwargs)>,\n",
       " 'EfficientNetB6': <function tensorflow.python.keras.applications.efficientnet.EfficientNetB6(include_top=True, weights='imagenet', input_tensor=None, input_shape=None, pooling=None, classes=1000, classifier_activation='softmax', **kwargs)>,\n",
       " 'EfficientNetB7': <function tensorflow.python.keras.applications.efficientnet.EfficientNetB7(include_top=True, weights='imagenet', input_tensor=None, input_shape=None, pooling=None, classes=1000, classifier_activation='softmax', **kwargs)>,\n",
       " 'InceptionResNetV2': <function tensorflow.python.keras.applications.inception_resnet_v2.InceptionResNetV2(include_top=True, weights='imagenet', input_tensor=None, input_shape=None, pooling=None, classes=1000, classifier_activation='softmax', **kwargs)>,\n",
       " 'InceptionV3': <function tensorflow.python.keras.applications.inception_v3.InceptionV3(include_top=True, weights='imagenet', input_tensor=None, input_shape=None, pooling=None, classes=1000, classifier_activation='softmax')>,\n",
       " 'MobileNet': <function tensorflow.python.keras.applications.mobilenet.MobileNet(input_shape=None, alpha=1.0, depth_multiplier=1, dropout=0.001, include_top=True, weights='imagenet', input_tensor=None, pooling=None, classes=1000, classifier_activation='softmax', **kwargs)>,\n",
       " 'MobileNetV2': <function tensorflow.python.keras.applications.mobilenet_v2.MobileNetV2(input_shape=None, alpha=1.0, include_top=True, weights='imagenet', input_tensor=None, pooling=None, classes=1000, classifier_activation='softmax', **kwargs)>,\n",
       " 'MobileNetV3Large': <function tensorflow.python.keras.applications.mobilenet_v3.MobileNetV3Large(input_shape=None, alpha=1.0, minimalistic=False, include_top=True, weights='imagenet', input_tensor=None, classes=1000, pooling=None, dropout_rate=0.2, classifier_activation='softmax')>,\n",
       " 'MobileNetV3Small': <function tensorflow.python.keras.applications.mobilenet_v3.MobileNetV3Small(input_shape=None, alpha=1.0, minimalistic=False, include_top=True, weights='imagenet', input_tensor=None, classes=1000, pooling=None, dropout_rate=0.2, classifier_activation='softmax')>,\n",
       " 'NASNetLarge': <function tensorflow.python.keras.applications.nasnet.NASNetLarge(input_shape=None, include_top=True, weights='imagenet', input_tensor=None, pooling=None, classes=1000)>,\n",
       " 'NASNetMobile': <function tensorflow.python.keras.applications.nasnet.NASNetMobile(input_shape=None, include_top=True, weights='imagenet', input_tensor=None, pooling=None, classes=1000)>,\n",
       " 'ResNet101': <function tensorflow.python.keras.applications.resnet.ResNet101(include_top=True, weights='imagenet', input_tensor=None, input_shape=None, pooling=None, classes=1000, **kwargs)>,\n",
       " 'ResNet101V2': <function tensorflow.python.keras.applications.resnet_v2.ResNet101V2(include_top=True, weights='imagenet', input_tensor=None, input_shape=None, pooling=None, classes=1000, classifier_activation='softmax')>,\n",
       " 'ResNet152': <function tensorflow.python.keras.applications.resnet.ResNet152(include_top=True, weights='imagenet', input_tensor=None, input_shape=None, pooling=None, classes=1000, **kwargs)>,\n",
       " 'ResNet152V2': <function tensorflow.python.keras.applications.resnet_v2.ResNet152V2(include_top=True, weights='imagenet', input_tensor=None, input_shape=None, pooling=None, classes=1000, classifier_activation='softmax')>,\n",
       " 'ResNet50': <function tensorflow.python.keras.applications.resnet.ResNet50(include_top=True, weights='imagenet', input_tensor=None, input_shape=None, pooling=None, classes=1000, **kwargs)>,\n",
       " 'ResNet50V2': <function tensorflow.python.keras.applications.resnet_v2.ResNet50V2(include_top=True, weights='imagenet', input_tensor=None, input_shape=None, pooling=None, classes=1000, classifier_activation='softmax')>,\n",
       " 'VGG16': <function tensorflow.python.keras.applications.vgg16.VGG16(include_top=True, weights='imagenet', input_tensor=None, input_shape=None, pooling=None, classes=1000, classifier_activation='softmax')>,\n",
       " 'VGG19': <function tensorflow.python.keras.applications.vgg19.VGG19(include_top=True, weights='imagenet', input_tensor=None, input_shape=None, pooling=None, classes=1000, classifier_activation='softmax')>,\n",
       " 'Xception': <function tensorflow.python.keras.applications.xception.Xception(include_top=True, weights='imagenet', input_tensor=None, input_shape=None, pooling=None, classes=1000, classifier_activation='softmax')>}"
      ]
     },
     "execution_count": 5,
     "metadata": {},
     "output_type": "execute_result"
    }
   ],
   "source": [
    "\n",
    "model_dictionary\n"
   ]
  },
  {
   "cell_type": "code",
   "execution_count": 6,
   "id": "collected-turning",
   "metadata": {},
   "outputs": [
    {
     "name": "stdout",
     "output_type": "stream",
     "text": [
      "Found 520 files belonging to 2 classes.\n",
      "Using 104 files for validation.\n",
      "Found 130 files belonging to 2 classes.\n",
      "Using 104 files for training.\n"
     ]
    }
   ],
   "source": [
    "img_height = 224\n",
    "img_width = 224\n",
    "val_ds = tf.keras.preprocessing.image_dataset_from_directory(\n",
    "  \"./archive/Fundus_Train_Val_Data/Fundus_Scanes_Sorted/Train/\",\n",
    "  validation_split=0.2,\n",
    "  subset=\"validation\",\n",
    "  seed=123,\n",
    "  image_size=(img_height, img_width),\n",
    "  batch_size=batch_size)\n",
    "\n",
    "\n",
    "train_ds = tf.keras.preprocessing.image_dataset_from_directory(\n",
    "  \"./archive/Fundus_Train_Val_Data/Fundus_Scanes_Sorted/Validation/\",\n",
    "  validation_split=0.2,\n",
    "  subset=\"training\",\n",
    "  seed=123,\n",
    "  image_size=(img_height, img_width),\n",
    "  batch_size=batch_size)\n",
    "\n"
   ]
  },
  {
   "cell_type": "code",
   "execution_count": null,
   "id": "removable-flush",
   "metadata": {
    "scrolled": true
   },
   "outputs": [
    {
     "name": "stderr",
     "output_type": "stream",
     "text": [
      "\r",
      "  0%|                                                                                           | 0/28 [00:00<?, ?it/s]"
     ]
    },
    {
     "name": "stdout",
     "output_type": "stream",
     "text": [
      "others\n",
      "models loaded\n",
      "4/4 [==============================] - 68s 9s/step - loss: 0.5962 - accuracy: 0.6598 - val_loss: 0.7486 - val_accuracy: 0.7885\n"
     ]
    },
    {
     "name": "stderr",
     "output_type": "stream",
     "text": [
      "\r",
      "  4%|██▉                                                                                | 1/28 [01:10<31:52, 70.82s/it]"
     ]
    },
    {
     "name": "stdout",
     "output_type": "stream",
     "text": [
      "others\n",
      "models loaded\n",
      "4/4 [==============================] - 42s 7s/step - loss: 0.6303 - accuracy: 0.7158 - val_loss: 0.6375 - val_accuracy: 0.6538\n"
     ]
    },
    {
     "name": "stderr",
     "output_type": "stream",
     "text": [
      "\r",
      "  7%|█████▉                                                                             | 2/28 [02:06<26:55, 62.13s/it]"
     ]
    },
    {
     "name": "stdout",
     "output_type": "stream",
     "text": [
      "others\n",
      "models loaded\n",
      "3/4 [=====================>........] - ETA: 0s - loss: 1.7450 - accuracy: 0.3750"
     ]
    }
   ],
   "source": [
    "model_benchmarks = {'model_name': [], 'num_model_params': [], 'validation_accuracy': []}\n",
    "for model_name, model in tqdm(model_dictionary.items()):\n",
    "    # Special handling for \"NASNetLarge\" since it requires input images with size (331,331)\n",
    "    if 'NASNetLarge' in model_name:\n",
    "        input_shape=(331,331,3)\n",
    "        train_processed = train_ds\n",
    "        validation_processed = val_ds\n",
    "        print(\"nasa\")\n",
    "    else:\n",
    "        input_shape=(224,224,3)\n",
    "        train_processed = train_ds\n",
    "        validation_processed = val_ds\n",
    "        print(\"others\")\n",
    "    base_model = model(include_top=False,input_shape=input_shape)\n",
    "    base_model.trainable = False\n",
    "    print(\"models loaded\")\n",
    "    global_average_layer = tf.keras.layers.GlobalAveragePooling2D()\n",
    "    prediction_layer = tf.keras.layers.Dense(len(train_ds.class_names))\n",
    "    model = tf.keras.Sequential([\n",
    "        tf.keras.layers.experimental.preprocessing.Resizing(input_shape[0], input_shape[1],interpolation='bilinear', name=None),\n",
    "        tf.keras.layers.experimental.preprocessing.Rescaling(1./255),\n",
    "        base_model,\n",
    "        global_average_layer,\n",
    "        tf.keras.layers.Dense(10),\n",
    "        # tf.keras.layers.Dense(10),\n",
    "        prediction_layer\n",
    "    ])\n",
    "    # model.summary()\n",
    "    base_learning_rate = 0.001\n",
    "    model.compile(optimizer='adam',\n",
    "    loss=tf.keras.losses.SparseCategoricalCrossentropy(from_logits=True),\n",
    "    metrics=['accuracy'])\n",
    "    # We can evaluate the model right now to see how it does before training it on our new images\n",
    "    initial_epochs = 1\n",
    "    # validation_steps=20\n",
    "\n",
    "    # loss0,accuracy0 = model.evaluate(validation_batches, steps = validation_steps)\n",
    "    history = model.fit( train_ds ,\n",
    "    epochs=initial_epochs,\n",
    "    shuffle=True,\n",
    "    batch_size=32,\n",
    "    validation_data=val_ds,\n",
    "    )\n",
    "    model_benchmarks['model_name'].append(model_name)\n",
    "    model_benchmarks['num_model_params'].append(base_model.count_params())\n",
    "    model_benchmarks['validation_accuracy'].append(history.history)\n",
    "#     model_benchmarks['accuracy'].append(history.history['accuracy'][-1])\n"
   ]
  },
  {
   "cell_type": "code",
   "execution_count": null,
   "id": "bizarre-simon",
   "metadata": {},
   "outputs": [],
   "source": [
    "\n",
    "len(train_ds.class_names)\n"
   ]
  },
  {
   "cell_type": "code",
   "execution_count": null,
   "id": "genuine-camera",
   "metadata": {},
   "outputs": [],
   "source": [
    "# # custom modifications on top of pre-trained model\n",
    "# clf_model = tf.keras.models.Sequential()\n",
    "# clf_model.add(pre_trained_model)\n",
    "# clf_model.add(tf.keras.layers.Dense(len(train_ds.class_names), activation='softmax'))\n",
    "# clf_model.compile(loss='categorical_crossentropy', metrics=['accuracy'])\n",
    "# history = clf_model.fit(train_processed, epochs=3, validation_data=validation_processed,steps_per_epoch = 15)\n",
    "\n",
    "#    # Calculate all relevant metrics\n",
    "# model_benchmarks['model_name'].append(model_name)\n",
    "# model_benchmarks['num_model_params'].append(pre_trained_model.count_params())\n",
    "# model_benchmarks['validation_accuracy'].append(history.history['val_accuracy'][-1])\n"
   ]
  },
  {
   "cell_type": "code",
   "execution_count": null,
   "id": "furnished-chapel",
   "metadata": {},
   "outputs": [],
   "source": [
    "model_benchmarks"
   ]
  },
  {
   "cell_type": "code",
   "execution_count": null,
   "id": "chronic-appraisal",
   "metadata": {},
   "outputs": [],
   "source": [
    "\n",
    "def fun(e,r):\n",
    "    print(e)\n",
    "    print(r)\n",
    "    return(e)"
   ]
  },
  {
   "cell_type": "code",
   "execution_count": null,
   "id": "northern-notification",
   "metadata": {
    "tags": [
     "outputPrepend"
    ]
   },
   "outputs": [],
   "source": [
    "asd=0\n",
    "IMG_SHAPE=(224,224,3)\n",
    "base_model = tf.keras.applications.MobileNetV2(input_shape=IMG_SHAPE,\n",
    "                                                    include_top=False,\n",
    "                                                    weights='imagenet')\n",
    "base_model.summary()"
   ]
  },
  {
   "cell_type": "code",
   "execution_count": null,
   "id": "trained-jonathan",
   "metadata": {},
   "outputs": [],
   "source": [
    "asd= train_ds.map(fun)"
   ]
  },
  {
   "cell_type": "code",
   "execution_count": null,
   "id": "grateful-status",
   "metadata": {},
   "outputs": [],
   "source": [
    "a=cv2.imread('./archive/Fundus_Train_Val_Data/Fundus_Scanes_Sorted/Train/Glaucoma_Positive/036.jpg')"
   ]
  },
  {
   "cell_type": "code",
   "execution_count": null,
   "id": "governing-conjunction",
   "metadata": {},
   "outputs": [],
   "source": [
    "feature_exteracted = base_model(np.array([cv2.resize(a,(224,224))]))"
   ]
  },
  {
   "cell_type": "code",
   "execution_count": null,
   "id": "filled-verse",
   "metadata": {},
   "outputs": [],
   "source": [
    "np.array(feature_exteracted).shape\n"
   ]
  },
  {
   "cell_type": "code",
   "execution_count": null,
   "id": "driving-stanford",
   "metadata": {},
   "outputs": [],
   "source": [
    "1*7*7*1280"
   ]
  },
  {
   "cell_type": "code",
   "execution_count": 1,
   "id": "mobile-cannon",
   "metadata": {},
   "outputs": [
    {
     "data": {
      "text/plain": [
       "2.4"
      ]
     },
     "execution_count": 1,
     "metadata": {},
     "output_type": "execute_result"
    }
   ],
   "source": [
    "(224*224*3)/(1*7*7*1280)"
   ]
  },
  {
   "cell_type": "code",
   "execution_count": null,
   "id": "suburban-zimbabwe",
   "metadata": {},
   "outputs": [],
   "source": []
  },
  {
   "cell_type": "code",
   "execution_count": null,
   "id": "printable-metallic",
   "metadata": {},
   "outputs": [],
   "source": []
  },
  {
   "cell_type": "code",
   "execution_count": null,
   "id": "substantial-listing",
   "metadata": {},
   "outputs": [],
   "source": [
    "model_benchmarks = {'model_name': [], 'num_model_params': [], 'validation_accuracy': []}\n",
    "for model_name, model in tqdm(model_dictionary.items()):\n",
    "    # Special handling for \"NASNetLarge\" since it requires input images with size (331,331)\n",
    "    if 'NASNetLarge' in model_name:\n",
    "        input_shape=(331,331,3)\n",
    "        train_processed = train_ds\n",
    "        validation_processed = val_ds\n",
    "        print(\"nasa\")\n",
    "    else:\n",
    "        input_shape=(224,224,3)\n",
    "        train_processed = train_ds\n",
    "        validation_processed = val_ds\n",
    "        print(\"others\")\n",
    "    base_model = model(include_top=False,input_shape=input_shape)\n",
    "    base_model.trainable = False\n",
    "    print(\"models loaded\")\n"
   ]
  }
 ],
 "metadata": {
  "kernelspec": {
   "display_name": "Python 3",
   "language": "python",
   "name": "python3"
  },
  "language_info": {
   "codemirror_mode": {
    "name": "ipython",
    "version": 3
   },
   "file_extension": ".py",
   "mimetype": "text/x-python",
   "name": "python",
   "nbconvert_exporter": "python",
   "pygments_lexer": "ipython3",
   "version": "3.7.9"
  },
  "metadata": {
   "interpreter": {
    "hash": "63fd5069d213b44bf678585dea6b12cceca9941eaf7f819626cde1f2670de90d"
   }
  }
 },
 "nbformat": 4,
 "nbformat_minor": 5
}
