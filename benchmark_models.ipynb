{
 "cells": [
  {
   "cell_type": "code",
   "execution_count": 1,
   "id": "complete-fishing",
   "metadata": {},
   "outputs": [],
   "source": [
    "\n",
    "import tensorflow as tf\n",
    "import pandas as pd\n",
    "import matplotlib.pyplot as plt\n",
    "import inspect\n",
    "from tqdm import tqdm\n",
    "import numpy as np\n",
    "# Set batch size for training and validation\n",
    "batch_size = 32\n"
   ]
  },
  {
   "cell_type": "code",
   "execution_count": 2,
   "id": "honest-marijuana",
   "metadata": {},
   "outputs": [],
   "source": [
    "model_dictionary = {m[0]:m[1] for m in inspect.getmembers(tf.keras.applications, inspect.isfunction)}\n"
   ]
  },
  {
   "cell_type": "code",
   "execution_count": 3,
   "id": "banned-dispute",
   "metadata": {},
   "outputs": [
    {
     "output_type": "execute_result",
     "data": {
      "text/plain": [
       "{'DenseNet121': <function tensorflow.python.keras.applications.densenet.DenseNet121(include_top=True, weights='imagenet', input_tensor=None, input_shape=None, pooling=None, classes=1000)>,\n",
       " 'DenseNet169': <function tensorflow.python.keras.applications.densenet.DenseNet169(include_top=True, weights='imagenet', input_tensor=None, input_shape=None, pooling=None, classes=1000)>,\n",
       " 'DenseNet201': <function tensorflow.python.keras.applications.densenet.DenseNet201(include_top=True, weights='imagenet', input_tensor=None, input_shape=None, pooling=None, classes=1000)>,\n",
       " 'EfficientNetB0': <function tensorflow.python.keras.applications.efficientnet.EfficientNetB0(include_top=True, weights='imagenet', input_tensor=None, input_shape=None, pooling=None, classes=1000, classifier_activation='softmax', **kwargs)>,\n",
       " 'EfficientNetB1': <function tensorflow.python.keras.applications.efficientnet.EfficientNetB1(include_top=True, weights='imagenet', input_tensor=None, input_shape=None, pooling=None, classes=1000, classifier_activation='softmax', **kwargs)>,\n",
       " 'EfficientNetB2': <function tensorflow.python.keras.applications.efficientnet.EfficientNetB2(include_top=True, weights='imagenet', input_tensor=None, input_shape=None, pooling=None, classes=1000, classifier_activation='softmax', **kwargs)>,\n",
       " 'EfficientNetB3': <function tensorflow.python.keras.applications.efficientnet.EfficientNetB3(include_top=True, weights='imagenet', input_tensor=None, input_shape=None, pooling=None, classes=1000, classifier_activation='softmax', **kwargs)>,\n",
       " 'EfficientNetB4': <function tensorflow.python.keras.applications.efficientnet.EfficientNetB4(include_top=True, weights='imagenet', input_tensor=None, input_shape=None, pooling=None, classes=1000, classifier_activation='softmax', **kwargs)>,\n",
       " 'EfficientNetB5': <function tensorflow.python.keras.applications.efficientnet.EfficientNetB5(include_top=True, weights='imagenet', input_tensor=None, input_shape=None, pooling=None, classes=1000, classifier_activation='softmax', **kwargs)>,\n",
       " 'EfficientNetB6': <function tensorflow.python.keras.applications.efficientnet.EfficientNetB6(include_top=True, weights='imagenet', input_tensor=None, input_shape=None, pooling=None, classes=1000, classifier_activation='softmax', **kwargs)>,\n",
       " 'EfficientNetB7': <function tensorflow.python.keras.applications.efficientnet.EfficientNetB7(include_top=True, weights='imagenet', input_tensor=None, input_shape=None, pooling=None, classes=1000, classifier_activation='softmax', **kwargs)>,\n",
       " 'InceptionResNetV2': <function tensorflow.python.keras.applications.inception_resnet_v2.InceptionResNetV2(include_top=True, weights='imagenet', input_tensor=None, input_shape=None, pooling=None, classes=1000, classifier_activation='softmax', **kwargs)>,\n",
       " 'InceptionV3': <function tensorflow.python.keras.applications.inception_v3.InceptionV3(include_top=True, weights='imagenet', input_tensor=None, input_shape=None, pooling=None, classes=1000, classifier_activation='softmax')>,\n",
       " 'MobileNet': <function tensorflow.python.keras.applications.mobilenet.MobileNet(input_shape=None, alpha=1.0, depth_multiplier=1, dropout=0.001, include_top=True, weights='imagenet', input_tensor=None, pooling=None, classes=1000, classifier_activation='softmax', **kwargs)>,\n",
       " 'MobileNetV2': <function tensorflow.python.keras.applications.mobilenet_v2.MobileNetV2(input_shape=None, alpha=1.0, include_top=True, weights='imagenet', input_tensor=None, pooling=None, classes=1000, classifier_activation='softmax', **kwargs)>,\n",
       " 'MobileNetV3Large': <function tensorflow.python.keras.applications.mobilenet_v3.MobileNetV3Large(input_shape=None, alpha=1.0, minimalistic=False, include_top=True, weights='imagenet', input_tensor=None, classes=1000, pooling=None, dropout_rate=0.2, classifier_activation='softmax')>,\n",
       " 'MobileNetV3Small': <function tensorflow.python.keras.applications.mobilenet_v3.MobileNetV3Small(input_shape=None, alpha=1.0, minimalistic=False, include_top=True, weights='imagenet', input_tensor=None, classes=1000, pooling=None, dropout_rate=0.2, classifier_activation='softmax')>,\n",
       " 'NASNetLarge': <function tensorflow.python.keras.applications.nasnet.NASNetLarge(input_shape=None, include_top=True, weights='imagenet', input_tensor=None, pooling=None, classes=1000)>,\n",
       " 'NASNetMobile': <function tensorflow.python.keras.applications.nasnet.NASNetMobile(input_shape=None, include_top=True, weights='imagenet', input_tensor=None, pooling=None, classes=1000)>,\n",
       " 'ResNet101': <function tensorflow.python.keras.applications.resnet.ResNet101(include_top=True, weights='imagenet', input_tensor=None, input_shape=None, pooling=None, classes=1000, **kwargs)>,\n",
       " 'ResNet101V2': <function tensorflow.python.keras.applications.resnet_v2.ResNet101V2(include_top=True, weights='imagenet', input_tensor=None, input_shape=None, pooling=None, classes=1000, classifier_activation='softmax')>,\n",
       " 'ResNet152': <function tensorflow.python.keras.applications.resnet.ResNet152(include_top=True, weights='imagenet', input_tensor=None, input_shape=None, pooling=None, classes=1000, **kwargs)>,\n",
       " 'ResNet152V2': <function tensorflow.python.keras.applications.resnet_v2.ResNet152V2(include_top=True, weights='imagenet', input_tensor=None, input_shape=None, pooling=None, classes=1000, classifier_activation='softmax')>,\n",
       " 'ResNet50': <function tensorflow.python.keras.applications.resnet.ResNet50(include_top=True, weights='imagenet', input_tensor=None, input_shape=None, pooling=None, classes=1000, **kwargs)>,\n",
       " 'ResNet50V2': <function tensorflow.python.keras.applications.resnet_v2.ResNet50V2(include_top=True, weights='imagenet', input_tensor=None, input_shape=None, pooling=None, classes=1000, classifier_activation='softmax')>,\n",
       " 'VGG16': <function tensorflow.python.keras.applications.vgg16.VGG16(include_top=True, weights='imagenet', input_tensor=None, input_shape=None, pooling=None, classes=1000, classifier_activation='softmax')>,\n",
       " 'VGG19': <function tensorflow.python.keras.applications.vgg19.VGG19(include_top=True, weights='imagenet', input_tensor=None, input_shape=None, pooling=None, classes=1000, classifier_activation='softmax')>,\n",
       " 'Xception': <function tensorflow.python.keras.applications.xception.Xception(include_top=True, weights='imagenet', input_tensor=None, input_shape=None, pooling=None, classes=1000, classifier_activation='softmax')>}"
      ]
     },
     "metadata": {},
     "execution_count": 3
    }
   ],
   "source": [
    "\n",
    "model_dictionary\n"
   ]
  },
  {
   "cell_type": "code",
   "execution_count": 4,
   "id": "collected-turning",
   "metadata": {},
   "outputs": [
    {
     "output_type": "stream",
     "name": "stdout",
     "text": [
      "Found 520 files belonging to 2 classes.\n",
      "Using 104 files for validation.\n",
      "Found 130 files belonging to 2 classes.\n",
      "Using 104 files for training.\n"
     ]
    }
   ],
   "source": [
    "img_height = 224\n",
    "img_width = 224\n",
    "val_ds = tf.keras.preprocessing.image_dataset_from_directory(\n",
    "  \"./archive/Fundus_Train_Val_Data/Fundus_Scanes_Sorted/Train/\",\n",
    "  validation_split=0.2,\n",
    "  subset=\"validation\",\n",
    "  seed=123,\n",
    "  image_size=(img_height, img_width),\n",
    "  batch_size=batch_size)\n",
    "\n",
    "\n",
    "train_ds = tf.keras.preprocessing.image_dataset_from_directory(\n",
    "  \"./archive/Fundus_Train_Val_Data/Fundus_Scanes_Sorted/Validation/\",\n",
    "  validation_split=0.2,\n",
    "  subset=\"training\",\n",
    "  seed=123,\n",
    "  image_size=(img_height, img_width),\n",
    "  batch_size=batch_size)\n",
    "\n"
   ]
  },
  {
   "cell_type": "code",
   "execution_count": 7,
   "id": "removable-flush",
   "metadata": {
    "scrolled": true
   },
   "outputs": [
    {
     "name": "stderr",
     "output_type": "stream",
     "text": [
      "\r",
      "  0%|                                                                                           | 0/28 [00:00<?, ?it/s]"
     ]
    },
    {
     "name": "stdout",
     "output_type": "stream",
     "text": [
      "others\n",
      "models loaded\n",
      "4/4 [==============================] - 17s 2s/step - loss: 1.8049 - accuracy: 0.3721 - val_loss: 0.8380 - val_accuracy: 0.7885\n"
     ]
    },
    {
     "name": "stderr",
     "output_type": "stream",
     "text": [
      "\r",
      "  4%|██▉                                                                                | 1/28 [00:19<08:51, 19.67s/it]"
     ]
    },
    {
     "name": "stdout",
     "output_type": "stream",
     "text": [
      "others\n",
      "models loaded\n",
      "4/4 [==============================] - 17s 2s/step - loss: 2.0056 - accuracy: 0.3610 - val_loss: 0.8895 - val_accuracy: 0.7885\n"
     ]
    },
    {
     "name": "stderr",
     "output_type": "stream",
     "text": [
      "\r",
      "  7%|█████▉                                                                             | 2/28 [00:41<08:57, 20.67s/it]"
     ]
    },
    {
     "name": "stdout",
     "output_type": "stream",
     "text": [
      "others\n",
      "models loaded\n",
      "4/4 [==============================] - 22s 3s/step - loss: 0.9118 - accuracy: 0.5048 - val_loss: 0.7058 - val_accuracy: 0.7885\n"
     ]
    },
    {
     "name": "stderr",
     "output_type": "stream",
     "text": [
      "\r",
      " 11%|████████▉                                                                          | 3/28 [01:08<09:56, 23.85s/it]"
     ]
    },
    {
     "name": "stdout",
     "output_type": "stream",
     "text": [
      "others\n",
      "models loaded\n",
      "4/4 [==============================] - 13s 2s/step - loss: 0.6574 - accuracy: 0.4926 - val_loss: 0.5383 - val_accuracy: 0.7885\n"
     ]
    },
    {
     "name": "stderr",
     "output_type": "stream",
     "text": [
      "\r",
      " 14%|███████████▊                                                                       | 4/28 [01:23<08:05, 20.22s/it]"
     ]
    },
    {
     "name": "stdout",
     "output_type": "stream",
     "text": [
      "others\n",
      "models loaded\n",
      "4/4 [==============================] - 16s 2s/step - loss: 0.6551 - accuracy: 0.5740 - val_loss: 0.5201 - val_accuracy: 0.7885\n"
     ]
    },
    {
     "name": "stderr",
     "output_type": "stream",
     "text": [
      "\r",
      " 18%|██████████████▊                                                                    | 5/28 [01:42<07:32, 19.69s/it]"
     ]
    },
    {
     "name": "stdout",
     "output_type": "stream",
     "text": [
      "others\n",
      "models loaded\n",
      "4/4 [==============================] - 16s 2s/step - loss: 0.6990 - accuracy: 0.5118 - val_loss: 0.6169 - val_accuracy: 0.7885\n"
     ]
    },
    {
     "name": "stderr",
     "output_type": "stream",
     "text": [
      "\r",
      " 21%|█████████████████▊                                                                 | 6/28 [02:00<07:03, 19.25s/it]"
     ]
    },
    {
     "name": "stdout",
     "output_type": "stream",
     "text": [
      "others\n",
      "models loaded\n",
      "4/4 [==============================] - 19s 2s/step - loss: 0.6470 - accuracy: 0.5173 - val_loss: 0.5528 - val_accuracy: 0.7885\n"
     ]
    },
    {
     "name": "stderr",
     "output_type": "stream",
     "text": [
      "\r",
      " 25%|████████████████████▊                                                              | 7/28 [02:22<07:02, 20.12s/it]"
     ]
    },
    {
     "name": "stdout",
     "output_type": "stream",
     "text": [
      "others\n",
      "models loaded\n",
      "4/4 [==============================] - 22s 2s/step - loss: 0.6737 - accuracy: 0.5229 - val_loss: 0.6716 - val_accuracy: 0.7885\n"
     ]
    },
    {
     "name": "stderr",
     "output_type": "stream",
     "text": [
      "\r",
      " 29%|███████████████████████▋                                                           | 8/28 [02:48<07:20, 22.01s/it]"
     ]
    },
    {
     "name": "stdout",
     "output_type": "stream",
     "text": [
      "others\n",
      "models loaded\n",
      "4/4 [==============================] - 26s 3s/step - loss: 0.6491 - accuracy: 0.4794 - val_loss: 0.5912 - val_accuracy: 0.7885\n"
     ]
    },
    {
     "name": "stderr",
     "output_type": "stream",
     "text": [
      "\r",
      " 32%|██████████████████████████▋                                                        | 9/28 [03:18<07:45, 24.50s/it]"
     ]
    },
    {
     "name": "stdout",
     "output_type": "stream",
     "text": [
      "others\n",
      "models loaded\n",
      "4/4 [==============================] - 32s 4s/step - loss: 0.6310 - accuracy: 0.5675 - val_loss: 0.7141 - val_accuracy: 0.7885\n"
     ]
    },
    {
     "name": "stderr",
     "output_type": "stream",
     "text": [
      "\r",
      " 36%|█████████████████████████████▎                                                    | 10/28 [03:55<08:28, 28.26s/it]"
     ]
    },
    {
     "name": "stdout",
     "output_type": "stream",
     "text": [
      "others\n",
      "Downloading data from https://storage.googleapis.com/keras-applications/efficientnetb7_notop.h5\n",
      "258080768/258076736 [==============================] - 67s 0us/step\n",
      "models loaded\n",
      "4/4 [==============================] - 55s 8s/step - loss: 0.6166 - accuracy: 0.7990 - val_loss: 0.5585 - val_accuracy: 0.7885\n"
     ]
    },
    {
     "name": "stderr",
     "output_type": "stream",
     "text": [
      "\r",
      " 39%|████████████████████████████████▏                                                 | 11/28 [06:05<16:50, 59.41s/it]"
     ]
    },
    {
     "name": "stdout",
     "output_type": "stream",
     "text": [
      "others\n",
      "Downloading data from https://storage.googleapis.com/tensorflow/keras-applications/inception_resnet_v2/inception_resnet_v2_weights_tf_dim_ordering_tf_kernels_notop.h5\n",
      "219062272/219055592 [==============================] - 58s 0us/step\n",
      "models loaded\n",
      "4/4 [==============================] - 34s 4s/step - loss: 0.5855 - accuracy: 0.7803 - val_loss: 0.6235 - val_accuracy: 0.6923\n"
     ]
    },
    {
     "name": "stderr",
     "output_type": "stream",
     "text": [
      "\r",
      " 43%|███████████████████████████████████▏                                              | 12/28 [07:43<19:01, 71.37s/it]"
     ]
    },
    {
     "name": "stdout",
     "output_type": "stream",
     "text": [
      "others\n",
      "Downloading data from https://storage.googleapis.com/tensorflow/keras-applications/inception_v3/inception_v3_weights_tf_dim_ordering_tf_kernels_notop.h5\n",
      "87916544/87910968 [==============================] - 20s 0us/step\n",
      "models loaded\n",
      "4/4 [==============================] - 26s 4s/step - loss: 0.6677 - accuracy: 0.7118 - val_loss: 0.7438 - val_accuracy: 0.4712\n"
     ]
    },
    {
     "name": "stderr",
     "output_type": "stream",
     "text": [
      "\r",
      " 46%|██████████████████████████████████████                                            | 13/28 [08:33<16:11, 64.79s/it]"
     ]
    },
    {
     "name": "stdout",
     "output_type": "stream",
     "text": [
      "others\n",
      "models loaded\n",
      "4/4 [==============================] - 14s 2s/step - loss: 1.0583 - accuracy: 0.4968 - val_loss: 0.9907 - val_accuracy: 0.7885\n"
     ]
    },
    {
     "name": "stderr",
     "output_type": "stream",
     "text": [
      "\r",
      " 50%|█████████████████████████████████████████                                         | 14/28 [08:51<11:47, 50.52s/it]"
     ]
    },
    {
     "name": "stdout",
     "output_type": "stream",
     "text": [
      "others\n",
      "models loaded\n",
      "4/4 [==============================] - 10s 1s/step - loss: 0.8345 - accuracy: 0.4885 - val_loss: 0.7268 - val_accuracy: 0.7885\n"
     ]
    },
    {
     "name": "stderr",
     "output_type": "stream",
     "text": [
      "\r",
      " 54%|███████████████████████████████████████████▉                                      | 15/28 [09:02<08:21, 38.60s/it]"
     ]
    },
    {
     "name": "stdout",
     "output_type": "stream",
     "text": [
      "others\n",
      "models loaded\n",
      "4/4 [==============================] - 17s 3s/step - loss: 0.7230 - accuracy: 0.5281 - val_loss: 0.6171 - val_accuracy: 0.7885\n"
     ]
    },
    {
     "name": "stderr",
     "output_type": "stream",
     "text": [
      "\r",
      " 57%|██████████████████████████████████████████████▊                                   | 16/28 [09:20<06:29, 32.50s/it]"
     ]
    },
    {
     "name": "stdout",
     "output_type": "stream",
     "text": [
      "others\n",
      "models loaded\n",
      "4/4 [==============================] - 18s 4s/step - loss: 0.6156 - accuracy: 0.8011 - val_loss: 0.5456 - val_accuracy: 0.7885\n"
     ]
    },
    {
     "name": "stderr",
     "output_type": "stream",
     "text": [
      "\r",
      " 61%|█████████████████████████████████████████████████▊                                | 17/28 [09:42<05:22, 29.32s/it]"
     ]
    },
    {
     "name": "stdout",
     "output_type": "stream",
     "text": [
      "nasa\n",
      "models loaded\n",
      "4/4 [==============================] - 68s 11s/step - loss: 0.9068 - accuracy: 0.4857 - val_loss: 0.7363 - val_accuracy: 0.7885\n"
     ]
    },
    {
     "name": "stderr",
     "output_type": "stream",
     "text": [
      "\r",
      " 64%|████████████████████████████████████████████████████▋                             | 18/28 [11:08<07:43, 46.38s/it]"
     ]
    },
    {
     "name": "stdout",
     "output_type": "stream",
     "text": [
      "others\n",
      "models loaded\n",
      "4/4 [==============================] - 34s 4s/step - loss: 0.6378 - accuracy: 0.6759 - val_loss: 0.5976 - val_accuracy: 0.7885\n"
     ]
    },
    {
     "name": "stderr",
     "output_type": "stream",
     "text": [
      "\r",
      " 68%|███████████████████████████████████████████████████████▋                          | 19/28 [11:56<07:02, 46.89s/it]"
     ]
    },
    {
     "name": "stdout",
     "output_type": "stream",
     "text": [
      "others\n",
      "models loaded\n",
      "4/4 [==============================] - 21s 3s/step - loss: 0.6226 - accuracy: 0.5473 - val_loss: 0.5773 - val_accuracy: 0.7885\n"
     ]
    },
    {
     "name": "stderr",
     "output_type": "stream",
     "text": [
      "\r",
      " 71%|██████████████████████████████████████████████████████████▌                       | 20/28 [12:24<05:29, 41.14s/it]"
     ]
    },
    {
     "name": "stdout",
     "output_type": "stream",
     "text": [
      "others\n",
      "models loaded\n",
      "4/4 [==============================] - 18s 2s/step - loss: 0.6275 - accuracy: 0.7229 - val_loss: 0.5391 - val_accuracy: 0.7596\n"
     ]
    },
    {
     "name": "stderr",
     "output_type": "stream",
     "text": [
      "\r",
      " 75%|█████████████████████████████████████████████████████████████▌                    | 21/28 [12:46<04:07, 35.38s/it]"
     ]
    },
    {
     "name": "stdout",
     "output_type": "stream",
     "text": [
      "others\n",
      "models loaded\n",
      "4/4 [==============================] - 25s 4s/step - loss: 0.5298 - accuracy: 0.8084 - val_loss: 0.5171 - val_accuracy: 0.7885\n"
     ]
    },
    {
     "name": "stderr",
     "output_type": "stream",
     "text": [
      "\r",
      " 79%|████████████████████████████████████████████████████████████████▍                 | 22/28 [13:16<03:23, 33.93s/it]"
     ]
    },
    {
     "name": "stdout",
     "output_type": "stream",
     "text": [
      "others\n",
      "models loaded\n",
      "4/4 [==============================] - 22s 3s/step - loss: 0.6347 - accuracy: 0.6217 - val_loss: 0.5891 - val_accuracy: 0.7885\n"
     ]
    },
    {
     "name": "stderr",
     "output_type": "stream",
     "text": [
      "\r",
      " 82%|███████████████████████████████████████████████████████████████████▎              | 23/28 [13:43<02:39, 31.93s/it]"
     ]
    },
    {
     "name": "stdout",
     "output_type": "stream",
     "text": [
      "others\n",
      "models loaded\n",
      "4/4 [==============================] - 12s 2s/step - loss: 0.5604 - accuracy: 0.7761 - val_loss: 0.5340 - val_accuracy: 0.7885\n"
     ]
    },
    {
     "name": "stderr",
     "output_type": "stream",
     "text": [
      "\r",
      " 86%|██████████████████████████████████████████████████████████████████████▎           | 24/28 [13:57<01:45, 26.48s/it]"
     ]
    },
    {
     "name": "stdout",
     "output_type": "stream",
     "text": [
      "others\n",
      "models loaded\n",
      "4/4 [==============================] - 15s 2s/step - loss: 1.4652 - accuracy: 0.4603 - val_loss: 1.1321 - val_accuracy: 0.7885\n"
     ]
    },
    {
     "name": "stderr",
     "output_type": "stream",
     "text": [
      "\r",
      " 89%|█████████████████████████████████████████████████████████████████████████▏        | 25/28 [14:14<01:10, 23.48s/it]"
     ]
    },
    {
     "name": "stdout",
     "output_type": "stream",
     "text": [
      "others\n",
      "models loaded\n",
      "4/4 [==============================] - 23s 3s/step - loss: 0.8549 - accuracy: 0.3164 - val_loss: 0.5323 - val_accuracy: 0.7885\n"
     ]
    },
    {
     "name": "stderr",
     "output_type": "stream",
     "text": [
      "\r",
      " 93%|████████████████████████████████████████████████████████████████████████████▏     | 26/28 [14:38<00:47, 23.60s/it]"
     ]
    },
    {
     "name": "stdout",
     "output_type": "stream",
     "text": [
      "others\n",
      "models loaded\n",
      "4/4 [==============================] - 16s 4s/step - loss: 0.6599 - accuracy: 0.5636 - val_loss: 0.5272 - val_accuracy: 0.7885\n"
     ]
    },
    {
     "name": "stderr",
     "output_type": "stream",
     "text": [
      "\r",
      " 96%|███████████████████████████████████████████████████████████████████████████████   | 27/28 [14:56<00:22, 22.11s/it]"
     ]
    },
    {
     "name": "stdout",
     "output_type": "stream",
     "text": [
      "others\n",
      "models loaded\n",
      "4/4 [==============================] - 23s 4s/step - loss: 1.0209 - accuracy: 0.4888 - val_loss: 0.8201 - val_accuracy: 0.7885\n"
     ]
    },
    {
     "name": "stderr",
     "output_type": "stream",
     "text": [
      "100%|██████████████████████████████████████████████████████████████████████████████████| 28/28 [15:23<00:00, 32.97s/it]\n"
     ]
    }
   ],
   "source": [
    "model_benchmarks = {'model_name': [], 'num_model_params': [], 'validation_accuracy': []}\n",
    "for model_name, model in tqdm(model_dictionary.items()):\n",
    "    # Special handling for \"NASNetLarge\" since it requires input images with size (331,331)\n",
    "    if 'NASNetLarge' in model_name:\n",
    "        input_shape=(331,331,3)\n",
    "        train_processed = train_ds\n",
    "        validation_processed = val_ds\n",
    "        print(\"nasa\")\n",
    "    else:\n",
    "        input_shape=(224,224,3)\n",
    "        train_processed = train_ds\n",
    "        validation_processed = val_ds\n",
    "        print(\"others\")\n",
    "    base_model = model(include_top=False,input_shape=input_shape)\n",
    "    base_model.trainable = False\n",
    "    print(\"models loaded\")\n",
    "    global_average_layer = tf.keras.layers.GlobalAveragePooling2D()\n",
    "    prediction_layer = tf.keras.layers.Dense(len(train_ds.class_names))\n",
    "    model = tf.keras.Sequential([\n",
    "        tf.keras.layers.experimental.preprocessing.Resizing(input_shape[0], input_shape[1],interpolation='bilinear', name=None),\n",
    "        tf.keras.layers.experimental.preprocessing.Rescaling(1./255),\n",
    "        base_model,\n",
    "        global_average_layer,\n",
    "        tf.keras.layers.Dense(10),\n",
    "        # tf.keras.layers.Dense(10),\n",
    "        prediction_layer\n",
    "    ])\n",
    "    # model.summary()\n",
    "    base_learning_rate = 0.001\n",
    "    model.compile(optimizer='adam',\n",
    "    loss=tf.keras.losses.SparseCategoricalCrossentropy(from_logits=True),\n",
    "    metrics=['accuracy'])\n",
    "    # We can evaluate the model right now to see how it does before training it on our new images\n",
    "    initial_epochs = 1\n",
    "    # validation_steps=20\n",
    "\n",
    "    # loss0,accuracy0 = model.evaluate(validation_batches, steps = validation_steps)\n",
    "    history = model.fit( train_ds ,\n",
    "    epochs=initial_epochs,\n",
    "    shuffle=True,\n",
    "    batch_size=32,\n",
    "    validation_data=val_ds,\n",
    "    )\n",
    "    model_benchmarks['model_name'].append(model_name)\n",
    "    model_benchmarks['num_model_params'].append(base_model.count_params())\n",
    "    model_benchmarks['validation_accuracy'].append(history.history)\n",
    "#     model_benchmarks['accuracy'].append(history.history['accuracy'][-1])\n"
   ]
  },
  {
   "cell_type": "code",
   "execution_count": 8,
   "id": "bizarre-simon",
   "metadata": {},
   "outputs": [
    {
     "data": {
      "text/plain": [
       "2"
      ]
     },
     "execution_count": 8,
     "metadata": {},
     "output_type": "execute_result"
    }
   ],
   "source": [
    "\n",
    "len(train_ds.class_names)\n"
   ]
  },
  {
   "cell_type": "code",
   "execution_count": 9,
   "id": "genuine-camera",
   "metadata": {},
   "outputs": [
    {
     "ename": "NameError",
     "evalue": "name 'pre_trained_model' is not defined",
     "output_type": "error",
     "traceback": [
      "\u001b[1;31m---------------------------------------------------------------------------\u001b[0m",
      "\u001b[1;31mNameError\u001b[0m                                 Traceback (most recent call last)",
      "\u001b[1;32m<ipython-input-9-9f91f1f4b930>\u001b[0m in \u001b[0;36m<module>\u001b[1;34m\u001b[0m\n\u001b[0;32m      1\u001b[0m \u001b[1;31m# custom modifications on top of pre-trained model\u001b[0m\u001b[1;33m\u001b[0m\u001b[1;33m\u001b[0m\u001b[1;33m\u001b[0m\u001b[0m\n\u001b[0;32m      2\u001b[0m \u001b[0mclf_model\u001b[0m \u001b[1;33m=\u001b[0m \u001b[0mtf\u001b[0m\u001b[1;33m.\u001b[0m\u001b[0mkeras\u001b[0m\u001b[1;33m.\u001b[0m\u001b[0mmodels\u001b[0m\u001b[1;33m.\u001b[0m\u001b[0mSequential\u001b[0m\u001b[1;33m(\u001b[0m\u001b[1;33m)\u001b[0m\u001b[1;33m\u001b[0m\u001b[1;33m\u001b[0m\u001b[0m\n\u001b[1;32m----> 3\u001b[1;33m \u001b[0mclf_model\u001b[0m\u001b[1;33m.\u001b[0m\u001b[0madd\u001b[0m\u001b[1;33m(\u001b[0m\u001b[0mpre_trained_model\u001b[0m\u001b[1;33m)\u001b[0m\u001b[1;33m\u001b[0m\u001b[1;33m\u001b[0m\u001b[0m\n\u001b[0m\u001b[0;32m      4\u001b[0m \u001b[0mclf_model\u001b[0m\u001b[1;33m.\u001b[0m\u001b[0madd\u001b[0m\u001b[1;33m(\u001b[0m\u001b[0mtf\u001b[0m\u001b[1;33m.\u001b[0m\u001b[0mkeras\u001b[0m\u001b[1;33m.\u001b[0m\u001b[0mlayers\u001b[0m\u001b[1;33m.\u001b[0m\u001b[0mDense\u001b[0m\u001b[1;33m(\u001b[0m\u001b[0mlen\u001b[0m\u001b[1;33m(\u001b[0m\u001b[0mtrain_ds\u001b[0m\u001b[1;33m.\u001b[0m\u001b[0mclass_names\u001b[0m\u001b[1;33m)\u001b[0m\u001b[1;33m,\u001b[0m \u001b[0mactivation\u001b[0m\u001b[1;33m=\u001b[0m\u001b[1;34m'softmax'\u001b[0m\u001b[1;33m)\u001b[0m\u001b[1;33m)\u001b[0m\u001b[1;33m\u001b[0m\u001b[1;33m\u001b[0m\u001b[0m\n\u001b[0;32m      5\u001b[0m \u001b[0mclf_model\u001b[0m\u001b[1;33m.\u001b[0m\u001b[0mcompile\u001b[0m\u001b[1;33m(\u001b[0m\u001b[0mloss\u001b[0m\u001b[1;33m=\u001b[0m\u001b[1;34m'categorical_crossentropy'\u001b[0m\u001b[1;33m,\u001b[0m \u001b[0mmetrics\u001b[0m\u001b[1;33m=\u001b[0m\u001b[1;33m[\u001b[0m\u001b[1;34m'accuracy'\u001b[0m\u001b[1;33m]\u001b[0m\u001b[1;33m)\u001b[0m\u001b[1;33m\u001b[0m\u001b[1;33m\u001b[0m\u001b[0m\n",
      "\u001b[1;31mNameError\u001b[0m: name 'pre_trained_model' is not defined"
     ]
    }
   ],
   "source": [
    "# # custom modifications on top of pre-trained model\n",
    "# clf_model = tf.keras.models.Sequential()\n",
    "# clf_model.add(pre_trained_model)\n",
    "# clf_model.add(tf.keras.layers.Dense(len(train_ds.class_names), activation='softmax'))\n",
    "# clf_model.compile(loss='categorical_crossentropy', metrics=['accuracy'])\n",
    "# history = clf_model.fit(train_processed, epochs=3, validation_data=validation_processed,steps_per_epoch = 15)\n",
    "\n",
    "#    # Calculate all relevant metrics\n",
    "# model_benchmarks['model_name'].append(model_name)\n",
    "# model_benchmarks['num_model_params'].append(pre_trained_model.count_params())\n",
    "# model_benchmarks['validation_accuracy'].append(history.history['val_accuracy'][-1])\n"
   ]
  },
  {
   "cell_type": "code",
   "execution_count": 10,
   "id": "furnished-chapel",
   "metadata": {},
   "outputs": [
    {
     "data": {
      "text/plain": [
       "{'model_name': ['DenseNet121',\n",
       "  'DenseNet169',\n",
       "  'DenseNet201',\n",
       "  'EfficientNetB0',\n",
       "  'EfficientNetB1',\n",
       "  'EfficientNetB2',\n",
       "  'EfficientNetB3',\n",
       "  'EfficientNetB4',\n",
       "  'EfficientNetB5',\n",
       "  'EfficientNetB6',\n",
       "  'EfficientNetB7',\n",
       "  'InceptionResNetV2',\n",
       "  'InceptionV3',\n",
       "  'MobileNet',\n",
       "  'MobileNetV2',\n",
       "  'MobileNetV3Large',\n",
       "  'MobileNetV3Small',\n",
       "  'NASNetLarge',\n",
       "  'NASNetMobile',\n",
       "  'ResNet101',\n",
       "  'ResNet101V2',\n",
       "  'ResNet152',\n",
       "  'ResNet152V2',\n",
       "  'ResNet50',\n",
       "  'ResNet50V2',\n",
       "  'VGG16',\n",
       "  'VGG19',\n",
       "  'Xception'],\n",
       " 'num_model_params': [7037504,\n",
       "  12642880,\n",
       "  18321984,\n",
       "  4049571,\n",
       "  6575239,\n",
       "  7768569,\n",
       "  10783535,\n",
       "  17673823,\n",
       "  28513527,\n",
       "  40960143,\n",
       "  64097687,\n",
       "  54336736,\n",
       "  21802784,\n",
       "  3228864,\n",
       "  2257984,\n",
       "  4226432,\n",
       "  1529968,\n",
       "  84916818,\n",
       "  4269716,\n",
       "  42658176,\n",
       "  42626560,\n",
       "  58370944,\n",
       "  58331648,\n",
       "  23587712,\n",
       "  23564800,\n",
       "  14714688,\n",
       "  20024384,\n",
       "  20861480],\n",
       " 'validation_accuracy': [{'loss': [1.450446367263794],\n",
       "   'accuracy': [0.4615384638309479],\n",
       "   'val_loss': [0.8380455374717712],\n",
       "   'val_accuracy': [0.7884615659713745]},\n",
       "  {'loss': [1.6076381206512451],\n",
       "   'accuracy': [0.45192307233810425],\n",
       "   'val_loss': [0.8895364999771118],\n",
       "   'val_accuracy': [0.7884615659713745]},\n",
       "  {'loss': [0.7783380746841431],\n",
       "   'accuracy': [0.6057692170143127],\n",
       "   'val_loss': [0.7057775855064392],\n",
       "   'val_accuracy': [0.7884615659713745]},\n",
       "  {'loss': [0.6363447904586792],\n",
       "   'accuracy': [0.5961538553237915],\n",
       "   'val_loss': [0.5382782220840454],\n",
       "   'val_accuracy': [0.7884615659713745]},\n",
       "  {'loss': [0.6270158290863037],\n",
       "   'accuracy': [0.6538461446762085],\n",
       "   'val_loss': [0.5200716853141785],\n",
       "   'val_accuracy': [0.7884615659713745]},\n",
       "  {'loss': [0.6323149800300598],\n",
       "   'accuracy': [0.6153846383094788],\n",
       "   'val_loss': [0.6169418096542358],\n",
       "   'val_accuracy': [0.7884615659713745]},\n",
       "  {'loss': [0.6354272365570068],\n",
       "   'accuracy': [0.6057692170143127],\n",
       "   'val_loss': [0.552765429019928],\n",
       "   'val_accuracy': [0.7884615659713745]},\n",
       "  {'loss': [0.619560182094574],\n",
       "   'accuracy': [0.625],\n",
       "   'val_loss': [0.6716328859329224],\n",
       "   'val_accuracy': [0.7884615659713745]},\n",
       "  {'loss': [0.6325907111167908],\n",
       "   'accuracy': [0.5865384340286255],\n",
       "   'val_loss': [0.5911878943443298],\n",
       "   'val_accuracy': [0.7884615659713745]},\n",
       "  {'loss': [0.5716847777366638],\n",
       "   'accuracy': [0.6634615659713745],\n",
       "   'val_loss': [0.7140805721282959],\n",
       "   'val_accuracy': [0.7884615659713745]},\n",
       "  {'loss': [0.6359947919845581],\n",
       "   'accuracy': [0.7788461446762085],\n",
       "   'val_loss': [0.5584600567817688],\n",
       "   'val_accuracy': [0.7884615659713745]},\n",
       "  {'loss': [0.6204732656478882],\n",
       "   'accuracy': [0.7788461446762085],\n",
       "   'val_loss': [0.6234907507896423],\n",
       "   'val_accuracy': [0.692307710647583]},\n",
       "  {'loss': [0.6571885347366333],\n",
       "   'accuracy': [0.7403846383094788],\n",
       "   'val_loss': [0.7437518835067749],\n",
       "   'val_accuracy': [0.4711538553237915]},\n",
       "  {'loss': [0.8988473415374756],\n",
       "   'accuracy': [0.5961538553237915],\n",
       "   'val_loss': [0.9907281398773193],\n",
       "   'val_accuracy': [0.7884615659713745]},\n",
       "  {'loss': [0.7614924311637878],\n",
       "   'accuracy': [0.5961538553237915],\n",
       "   'val_loss': [0.7267720699310303],\n",
       "   'val_accuracy': [0.7884615659713745]},\n",
       "  {'loss': [0.6659215688705444],\n",
       "   'accuracy': [0.625],\n",
       "   'val_loss': [0.6171240210533142],\n",
       "   'val_accuracy': [0.7884615659713745]},\n",
       "  {'loss': [0.63301020860672],\n",
       "   'accuracy': [0.7788461446762085],\n",
       "   'val_loss': [0.5456055998802185],\n",
       "   'val_accuracy': [0.7884615659713745]},\n",
       "  {'loss': [0.8610220551490784],\n",
       "   'accuracy': [0.5865384340286255],\n",
       "   'val_loss': [0.7363114953041077],\n",
       "   'val_accuracy': [0.7884615659713745]},\n",
       "  {'loss': [0.5992717742919922],\n",
       "   'accuracy': [0.692307710647583],\n",
       "   'val_loss': [0.5976343154907227],\n",
       "   'val_accuracy': [0.7884615659713745]},\n",
       "  {'loss': [0.5841416120529175],\n",
       "   'accuracy': [0.6442307829856873],\n",
       "   'val_loss': [0.5773101449012756],\n",
       "   'val_accuracy': [0.7884615659713745]},\n",
       "  {'loss': [0.6149007081985474],\n",
       "   'accuracy': [0.75],\n",
       "   'val_loss': [0.5390651226043701],\n",
       "   'val_accuracy': [0.7596153616905212]},\n",
       "  {'loss': [0.5788761973381042],\n",
       "   'accuracy': [0.7788461446762085],\n",
       "   'val_loss': [0.5170940160751343],\n",
       "   'val_accuracy': [0.7884615659713745]},\n",
       "  {'loss': [0.6021499037742615],\n",
       "   'accuracy': [0.692307710647583],\n",
       "   'val_loss': [0.5890513062477112],\n",
       "   'val_accuracy': [0.7884615659713745]},\n",
       "  {'loss': [0.5618914365768433],\n",
       "   'accuracy': [0.7788461446762085],\n",
       "   'val_loss': [0.5340003371238708],\n",
       "   'val_accuracy': [0.7884615659713745]},\n",
       "  {'loss': [1.1635549068450928],\n",
       "   'accuracy': [0.567307710647583],\n",
       "   'val_loss': [1.1320888996124268],\n",
       "   'val_accuracy': [0.7884615659713745]},\n",
       "  {'loss': [0.7938874363899231],\n",
       "   'accuracy': [0.4134615361690521],\n",
       "   'val_loss': [0.532251238822937],\n",
       "   'val_accuracy': [0.7884615659713745]},\n",
       "  {'loss': [0.6208174228668213],\n",
       "   'accuracy': [0.6538461446762085],\n",
       "   'val_loss': [0.5272308588027954],\n",
       "   'val_accuracy': [0.7884615659713745]},\n",
       "  {'loss': [0.9507376551628113],\n",
       "   'accuracy': [0.5865384340286255],\n",
       "   'val_loss': [0.82008957862854],\n",
       "   'val_accuracy': [0.7884615659713745]}]}"
      ]
     },
     "execution_count": 10,
     "metadata": {},
     "output_type": "execute_result"
    }
   ],
   "source": [
    "model_benchmarks"
   ]
  },
  {
   "cell_type": "code",
   "execution_count": 8,
   "id": "chronic-appraisal",
   "metadata": {},
   "outputs": [],
   "source": [
    "\n",
    "def fun(e,r):\n",
    "    print(e)\n",
    "    print(r)\n",
    "    return(e)"
   ]
  },
  {
   "cell_type": "code",
   "execution_count": 57,
   "id": "northern-notification",
   "metadata": {
    "tags": [
     "outputPrepend"
    ]
   },
   "outputs": [
    {
     "output_type": "stream",
     "name": "stdout",
     "text": [
      "_relu[0][0]        \n__________________________________________________________________________________________________\nblock_6_depthwise (DepthwiseCon (None, 14, 14, 192)  1728        block_6_pad[0][0]                \n__________________________________________________________________________________________________\nblock_6_depthwise_BN (BatchNorm (None, 14, 14, 192)  768         block_6_depthwise[0][0]          \n__________________________________________________________________________________________________\nblock_6_depthwise_relu (ReLU)   (None, 14, 14, 192)  0           block_6_depthwise_BN[0][0]       \n__________________________________________________________________________________________________\nblock_6_project (Conv2D)        (None, 14, 14, 64)   12288       block_6_depthwise_relu[0][0]     \n__________________________________________________________________________________________________\nblock_6_project_BN (BatchNormal (None, 14, 14, 64)   256         block_6_project[0][0]            \n__________________________________________________________________________________________________\nblock_7_expand (Conv2D)         (None, 14, 14, 384)  24576       block_6_project_BN[0][0]         \n__________________________________________________________________________________________________\nblock_7_expand_BN (BatchNormali (None, 14, 14, 384)  1536        block_7_expand[0][0]             \n__________________________________________________________________________________________________\nblock_7_expand_relu (ReLU)      (None, 14, 14, 384)  0           block_7_expand_BN[0][0]          \n__________________________________________________________________________________________________\nblock_7_depthwise (DepthwiseCon (None, 14, 14, 384)  3456        block_7_expand_relu[0][0]        \n__________________________________________________________________________________________________\nblock_7_depthwise_BN (BatchNorm (None, 14, 14, 384)  1536        block_7_depthwise[0][0]          \n__________________________________________________________________________________________________\nblock_7_depthwise_relu (ReLU)   (None, 14, 14, 384)  0           block_7_depthwise_BN[0][0]       \n__________________________________________________________________________________________________\nblock_7_project (Conv2D)        (None, 14, 14, 64)   24576       block_7_depthwise_relu[0][0]     \n__________________________________________________________________________________________________\nblock_7_project_BN (BatchNormal (None, 14, 14, 64)   256         block_7_project[0][0]            \n__________________________________________________________________________________________________\nblock_7_add (Add)               (None, 14, 14, 64)   0           block_6_project_BN[0][0]         \n                                                                 block_7_project_BN[0][0]         \n__________________________________________________________________________________________________\nblock_8_expand (Conv2D)         (None, 14, 14, 384)  24576       block_7_add[0][0]                \n__________________________________________________________________________________________________\nblock_8_expand_BN (BatchNormali (None, 14, 14, 384)  1536        block_8_expand[0][0]             \n__________________________________________________________________________________________________\nblock_8_expand_relu (ReLU)      (None, 14, 14, 384)  0           block_8_expand_BN[0][0]          \n__________________________________________________________________________________________________\nblock_8_depthwise (DepthwiseCon (None, 14, 14, 384)  3456        block_8_expand_relu[0][0]        \n__________________________________________________________________________________________________\nblock_8_depthwise_BN (BatchNorm (None, 14, 14, 384)  1536        block_8_depthwise[0][0]          \n__________________________________________________________________________________________________\nblock_8_depthwise_relu (ReLU)   (None, 14, 14, 384)  0           block_8_depthwise_BN[0][0]       \n__________________________________________________________________________________________________\nblock_8_project (Conv2D)        (None, 14, 14, 64)   24576       block_8_depthwise_relu[0][0]     \n__________________________________________________________________________________________________\nblock_8_project_BN (BatchNormal (None, 14, 14, 64)   256         block_8_project[0][0]            \n__________________________________________________________________________________________________\nblock_8_add (Add)               (None, 14, 14, 64)   0           block_7_add[0][0]                \n                                                                 block_8_project_BN[0][0]         \n__________________________________________________________________________________________________\nblock_9_expand (Conv2D)         (None, 14, 14, 384)  24576       block_8_add[0][0]                \n__________________________________________________________________________________________________\nblock_9_expand_BN (BatchNormali (None, 14, 14, 384)  1536        block_9_expand[0][0]             \n__________________________________________________________________________________________________\nblock_9_expand_relu (ReLU)      (None, 14, 14, 384)  0           block_9_expand_BN[0][0]          \n__________________________________________________________________________________________________\nblock_9_depthwise (DepthwiseCon (None, 14, 14, 384)  3456        block_9_expand_relu[0][0]        \n__________________________________________________________________________________________________\nblock_9_depthwise_BN (BatchNorm (None, 14, 14, 384)  1536        block_9_depthwise[0][0]          \n__________________________________________________________________________________________________\nblock_9_depthwise_relu (ReLU)   (None, 14, 14, 384)  0           block_9_depthwise_BN[0][0]       \n__________________________________________________________________________________________________\nblock_9_project (Conv2D)        (None, 14, 14, 64)   24576       block_9_depthwise_relu[0][0]     \n__________________________________________________________________________________________________\nblock_9_project_BN (BatchNormal (None, 14, 14, 64)   256         block_9_project[0][0]            \n__________________________________________________________________________________________________\nblock_9_add (Add)               (None, 14, 14, 64)   0           block_8_add[0][0]                \n                                                                 block_9_project_BN[0][0]         \n__________________________________________________________________________________________________\nblock_10_expand (Conv2D)        (None, 14, 14, 384)  24576       block_9_add[0][0]                \n__________________________________________________________________________________________________\nblock_10_expand_BN (BatchNormal (None, 14, 14, 384)  1536        block_10_expand[0][0]            \n__________________________________________________________________________________________________\nblock_10_expand_relu (ReLU)     (None, 14, 14, 384)  0           block_10_expand_BN[0][0]         \n__________________________________________________________________________________________________\nblock_10_depthwise (DepthwiseCo (None, 14, 14, 384)  3456        block_10_expand_relu[0][0]       \n__________________________________________________________________________________________________\nblock_10_depthwise_BN (BatchNor (None, 14, 14, 384)  1536        block_10_depthwise[0][0]         \n__________________________________________________________________________________________________\nblock_10_depthwise_relu (ReLU)  (None, 14, 14, 384)  0           block_10_depthwise_BN[0][0]      \n__________________________________________________________________________________________________\nblock_10_project (Conv2D)       (None, 14, 14, 96)   36864       block_10_depthwise_relu[0][0]    \n__________________________________________________________________________________________________\nblock_10_project_BN (BatchNorma (None, 14, 14, 96)   384         block_10_project[0][0]           \n__________________________________________________________________________________________________\nblock_11_expand (Conv2D)        (None, 14, 14, 576)  55296       block_10_project_BN[0][0]        \n__________________________________________________________________________________________________\nblock_11_expand_BN (BatchNormal (None, 14, 14, 576)  2304        block_11_expand[0][0]            \n__________________________________________________________________________________________________\nblock_11_expand_relu (ReLU)     (None, 14, 14, 576)  0           block_11_expand_BN[0][0]         \n__________________________________________________________________________________________________\nblock_11_depthwise (DepthwiseCo (None, 14, 14, 576)  5184        block_11_expand_relu[0][0]       \n__________________________________________________________________________________________________\nblock_11_depthwise_BN (BatchNor (None, 14, 14, 576)  2304        block_11_depthwise[0][0]         \n__________________________________________________________________________________________________\nblock_11_depthwise_relu (ReLU)  (None, 14, 14, 576)  0           block_11_depthwise_BN[0][0]      \n__________________________________________________________________________________________________\nblock_11_project (Conv2D)       (None, 14, 14, 96)   55296       block_11_depthwise_relu[0][0]    \n__________________________________________________________________________________________________\nblock_11_project_BN (BatchNorma (None, 14, 14, 96)   384         block_11_project[0][0]           \n__________________________________________________________________________________________________\nblock_11_add (Add)              (None, 14, 14, 96)   0           block_10_project_BN[0][0]        \n                                                                 block_11_project_BN[0][0]        \n__________________________________________________________________________________________________\nblock_12_expand (Conv2D)        (None, 14, 14, 576)  55296       block_11_add[0][0]               \n__________________________________________________________________________________________________\nblock_12_expand_BN (BatchNormal (None, 14, 14, 576)  2304        block_12_expand[0][0]            \n__________________________________________________________________________________________________\nblock_12_expand_relu (ReLU)     (None, 14, 14, 576)  0           block_12_expand_BN[0][0]         \n__________________________________________________________________________________________________\nblock_12_depthwise (DepthwiseCo (None, 14, 14, 576)  5184        block_12_expand_relu[0][0]       \n__________________________________________________________________________________________________\nblock_12_depthwise_BN (BatchNor (None, 14, 14, 576)  2304        block_12_depthwise[0][0]         \n__________________________________________________________________________________________________\nblock_12_depthwise_relu (ReLU)  (None, 14, 14, 576)  0           block_12_depthwise_BN[0][0]      \n__________________________________________________________________________________________________\nblock_12_project (Conv2D)       (None, 14, 14, 96)   55296       block_12_depthwise_relu[0][0]    \n__________________________________________________________________________________________________\nblock_12_project_BN (BatchNorma (None, 14, 14, 96)   384         block_12_project[0][0]           \n__________________________________________________________________________________________________\nblock_12_add (Add)              (None, 14, 14, 96)   0           block_11_add[0][0]               \n                                                                 block_12_project_BN[0][0]        \n__________________________________________________________________________________________________\nblock_13_expand (Conv2D)        (None, 14, 14, 576)  55296       block_12_add[0][0]               \n__________________________________________________________________________________________________\nblock_13_expand_BN (BatchNormal (None, 14, 14, 576)  2304        block_13_expand[0][0]            \n__________________________________________________________________________________________________\nblock_13_expand_relu (ReLU)     (None, 14, 14, 576)  0           block_13_expand_BN[0][0]         \n__________________________________________________________________________________________________\nblock_13_pad (ZeroPadding2D)    (None, 15, 15, 576)  0           block_13_expand_relu[0][0]       \n__________________________________________________________________________________________________\nblock_13_depthwise (DepthwiseCo (None, 7, 7, 576)    5184        block_13_pad[0][0]               \n__________________________________________________________________________________________________\nblock_13_depthwise_BN (BatchNor (None, 7, 7, 576)    2304        block_13_depthwise[0][0]         \n__________________________________________________________________________________________________\nblock_13_depthwise_relu (ReLU)  (None, 7, 7, 576)    0           block_13_depthwise_BN[0][0]      \n__________________________________________________________________________________________________\nblock_13_project (Conv2D)       (None, 7, 7, 160)    92160       block_13_depthwise_relu[0][0]    \n__________________________________________________________________________________________________\nblock_13_project_BN (BatchNorma (None, 7, 7, 160)    640         block_13_project[0][0]           \n__________________________________________________________________________________________________\nblock_14_expand (Conv2D)        (None, 7, 7, 960)    153600      block_13_project_BN[0][0]        \n__________________________________________________________________________________________________\nblock_14_expand_BN (BatchNormal (None, 7, 7, 960)    3840        block_14_expand[0][0]            \n__________________________________________________________________________________________________\nblock_14_expand_relu (ReLU)     (None, 7, 7, 960)    0           block_14_expand_BN[0][0]         \n__________________________________________________________________________________________________\nblock_14_depthwise (DepthwiseCo (None, 7, 7, 960)    8640        block_14_expand_relu[0][0]       \n__________________________________________________________________________________________________\nblock_14_depthwise_BN (BatchNor (None, 7, 7, 960)    3840        block_14_depthwise[0][0]         \n__________________________________________________________________________________________________\nblock_14_depthwise_relu (ReLU)  (None, 7, 7, 960)    0           block_14_depthwise_BN[0][0]      \n__________________________________________________________________________________________________\nblock_14_project (Conv2D)       (None, 7, 7, 160)    153600      block_14_depthwise_relu[0][0]    \n__________________________________________________________________________________________________\nblock_14_project_BN (BatchNorma (None, 7, 7, 160)    640         block_14_project[0][0]           \n__________________________________________________________________________________________________\nblock_14_add (Add)              (None, 7, 7, 160)    0           block_13_project_BN[0][0]        \n                                                                 block_14_project_BN[0][0]        \n__________________________________________________________________________________________________\nblock_15_expand (Conv2D)        (None, 7, 7, 960)    153600      block_14_add[0][0]               \n__________________________________________________________________________________________________\nblock_15_expand_BN (BatchNormal (None, 7, 7, 960)    3840        block_15_expand[0][0]            \n__________________________________________________________________________________________________\nblock_15_expand_relu (ReLU)     (None, 7, 7, 960)    0           block_15_expand_BN[0][0]         \n__________________________________________________________________________________________________\nblock_15_depthwise (DepthwiseCo (None, 7, 7, 960)    8640        block_15_expand_relu[0][0]       \n__________________________________________________________________________________________________\nblock_15_depthwise_BN (BatchNor (None, 7, 7, 960)    3840        block_15_depthwise[0][0]         \n__________________________________________________________________________________________________\nblock_15_depthwise_relu (ReLU)  (None, 7, 7, 960)    0           block_15_depthwise_BN[0][0]      \n__________________________________________________________________________________________________\nblock_15_project (Conv2D)       (None, 7, 7, 160)    153600      block_15_depthwise_relu[0][0]    \n__________________________________________________________________________________________________\nblock_15_project_BN (BatchNorma (None, 7, 7, 160)    640         block_15_project[0][0]           \n__________________________________________________________________________________________________\nblock_15_add (Add)              (None, 7, 7, 160)    0           block_14_add[0][0]               \n                                                                 block_15_project_BN[0][0]        \n__________________________________________________________________________________________________\nblock_16_expand (Conv2D)        (None, 7, 7, 960)    153600      block_15_add[0][0]               \n__________________________________________________________________________________________________\nblock_16_expand_BN (BatchNormal (None, 7, 7, 960)    3840        block_16_expand[0][0]            \n__________________________________________________________________________________________________\nblock_16_expand_relu (ReLU)     (None, 7, 7, 960)    0           block_16_expand_BN[0][0]         \n__________________________________________________________________________________________________\nblock_16_depthwise (DepthwiseCo (None, 7, 7, 960)    8640        block_16_expand_relu[0][0]       \n__________________________________________________________________________________________________\nblock_16_depthwise_BN (BatchNor (None, 7, 7, 960)    3840        block_16_depthwise[0][0]         \n__________________________________________________________________________________________________\nblock_16_depthwise_relu (ReLU)  (None, 7, 7, 960)    0           block_16_depthwise_BN[0][0]      \n__________________________________________________________________________________________________\nblock_16_project (Conv2D)       (None, 7, 7, 320)    307200      block_16_depthwise_relu[0][0]    \n__________________________________________________________________________________________________\nblock_16_project_BN (BatchNorma (None, 7, 7, 320)    1280        block_16_project[0][0]           \n__________________________________________________________________________________________________\nConv_1 (Conv2D)                 (None, 7, 7, 1280)   409600      block_16_project_BN[0][0]        \n__________________________________________________________________________________________________\nConv_1_bn (BatchNormalization)  (None, 7, 7, 1280)   5120        Conv_1[0][0]                     \n__________________________________________________________________________________________________\nout_relu (ReLU)                 (None, 7, 7, 1280)   0           Conv_1_bn[0][0]                  \n==================================================================================================\nTotal params: 2,257,984\nTrainable params: 2,223,872\nNon-trainable params: 34,112\n__________________________________________________________________________________________________\n"
     ]
    }
   ],
   "source": [
    "asd=0\n",
    "IMG_SHAPE=(224,224,3)\n",
    "base_model = tf.keras.applications.MobileNetV2(input_shape=IMG_SHAPE,\n",
    "                                                    include_top=False,\n",
    "                                                    weights='imagenet')\n",
    "base_model.summary()"
   ]
  },
  {
   "cell_type": "code",
   "execution_count": 10,
   "id": "trained-jonathan",
   "metadata": {},
   "outputs": [
    {
     "output_type": "stream",
     "name": "stdout",
     "text": [
      "Tensor(\"args_0:0\", shape=(None, 224, 224, 3), dtype=float32)\nTensor(\"args_1:0\", shape=(None,), dtype=int32)\n"
     ]
    }
   ],
   "source": [
    "asd= train_ds.map(fun)"
   ]
  },
  {
   "cell_type": "code",
   "execution_count": 40,
   "id": "grateful-status",
   "metadata": {},
   "outputs": [],
   "source": [
    "a=cv2.imread('./archive/Fundus_Train_Val_Data/Fundus_Scanes_Sorted/Train/Glaucoma_Positive/036.jpg')"
   ]
  },
  {
   "cell_type": "code",
   "execution_count": 41,
   "id": "governing-conjunction",
   "metadata": {},
   "outputs": [],
   "source": [
    "feature_exteracted = base_model(np.array([cv2.resize(a,(224,224))]))"
   ]
  },
  {
   "cell_type": "code",
   "execution_count": 47,
   "metadata": {},
   "outputs": [
    {
     "output_type": "execute_result",
     "data": {
      "text/plain": [
       "(1, 7, 7, 1280)"
      ]
     },
     "metadata": {},
     "execution_count": 47
    }
   ],
   "source": [
    "np.array(feature_exteracted).shape\n"
   ]
  },
  {
   "cell_type": "code",
   "execution_count": 49,
   "metadata": {},
   "outputs": [
    {
     "output_type": "execute_result",
     "data": {
      "text/plain": [
       "62720"
      ]
     },
     "metadata": {},
     "execution_count": 49
    }
   ],
   "source": [
    "1*7*7*1280"
   ]
  },
  {
   "cell_type": "code",
   "execution_count": 56,
   "metadata": {},
   "outputs": [
    {
     "output_type": "execute_result",
     "data": {
      "text/plain": [
       "2.4"
      ]
     },
     "metadata": {},
     "execution_count": 56
    }
   ],
   "source": [
    "(224*224*3)/(1*7*7*1280)"
   ]
  }
 ],
 "metadata": {
  "kernelspec": {
   "name": "python379jvsc74a57bd012280134bf90179510b7357f778a19f3dc43c9d290a83850b102763484b08c3e",
   "display_name": "Python 3.7.9 64-bit ('tfa': conda)"
  },
  "language_info": {
   "codemirror_mode": {
    "name": "ipython",
    "version": 3
   },
   "file_extension": ".py",
   "mimetype": "text/x-python",
   "name": "python",
   "nbconvert_exporter": "python",
   "pygments_lexer": "ipython3",
   "version": "3.7.9-final"
  },
  "metadata": {
   "interpreter": {
    "hash": "63fd5069d213b44bf678585dea6b12cceca9941eaf7f819626cde1f2670de90d"
   }
  }
 },
 "nbformat": 4,
 "nbformat_minor": 5
}